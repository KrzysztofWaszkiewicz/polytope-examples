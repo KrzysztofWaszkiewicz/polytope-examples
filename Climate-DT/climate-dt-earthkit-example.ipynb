{
 "cells": [
  {
   "cell_type": "markdown",
   "id": "089adc3f-943e-4b49-bc45-9e11c737b579",
   "metadata": {},
   "source": [
    "## Polytope Climate-DT example notebook\n",
    "\n",
    "This notebook shows how to use earthkit-data and earthkit-maps to pull destination-earth data from LUMI and plot it using earthkit-maps.\n",
    "\n",
    "Before running the notebook you need to set up your credentials. See the main readme of this repository for different ways to do this.\n",
    "\n",
    "You will need your credentials to be set up via config file (~/.polytopeapirc) or by environment variables"
   ]
  },
  {
   "cell_type": "code",
   "execution_count": 1,
   "id": "690284b8-914f-4615-9f10-d64bc0a41dfe",
   "metadata": {},
   "outputs": [
    {
     "data": {
      "text/plain": [
       "{'user_email': '<user_email>', 'user_key': '<user_key'}"
      ]
     },
     "execution_count": 1,
     "metadata": {},
     "output_type": "execute_result"
    }
   ],
   "source": [
    "{\n",
    "    \"user_email\": \"<user_email>\",\n",
    "    \"user_key\": \"<user_key\",\n",
    "}"
   ]
  },
  {
   "cell_type": "markdown",
   "id": "5ac38420-9c94-464f-990a-bf8166004218",
   "metadata": {},
   "source": [
    "You can also set POLYTOPE_USER_EMAIL and POLYTOPE_USER_KEY in your environment. Note that the email is not required if using a token-based authentication."
   ]
  },
  {
   "cell_type": "markdown",
   "id": "a44eafad-eb93-475f-9824-521473c00bb7",
   "metadata": {},
   "source": [
    "# Requirements\n",
    "To run this notebook install the following:\n",
    "* pip install earthkit-data\n",
    "* pip install earthkit-maps\n",
    "* pip install earthkit-regrid  (Optional for spectral variables)\n",
    "* pip install cf-units         (Optional for unit conversion in maps)\n",
    "\n",
    "If you do not have eccodes installed please install eccodes using conda as it is a dependency of earthkit, or install earthkit via conda\n",
    "\n",
    "* conda install eccodes -c conda-forge\n",
    "* conda install earthkit-data -c conda-forge"
   ]
  },
  {
   "cell_type": "code",
   "execution_count": 2,
   "id": "b2827834-1bcf-4958-83b4-c3a6b9a70275",
   "metadata": {},
   "outputs": [
    {
     "name": "stderr",
     "output_type": "stream",
     "text": [
      "2024-04-29 16:03:51 - INFO - Sending request...\n",
      "{'request': 'activity: ScenarioMIP\\n'\n",
      "            'class: d1\\n'\n",
      "            'dataset: climate-dt\\n'\n",
      "            \"date: '20200102'\\n\"\n",
      "            'experiment: SSP3-7.0\\n'\n",
      "            \"expver: '0001'\\n\"\n",
      "            \"generation: '1'\\n\"\n",
      "            'levtype: sfc\\n'\n",
      "            'model: IFS-NEMO\\n'\n",
      "            'param: 134/165/166\\n'\n",
      "            \"realization: '1'\\n\"\n",
      "            'resolution: standard\\n'\n",
      "            'stream: clte\\n'\n",
      "            \"time: '0100'\\n\"\n",
      "            'type: fc\\n',\n",
      " 'verb': 'retrieve'}\n",
      "2024-04-29 16:03:52 - INFO - Request accepted. Please poll http://polytope.lumi.apps.dte.destination-earth.eu/api/v1/requests/7901926b-19e0-44b7-bcc6-0442d1a203c1 for status\n",
      "2024-04-29 16:03:52 - INFO - Checking request status (7901926b-19e0-44b7-bcc6-0442d1a203c1)...\n",
      "2024-04-29 16:03:53 - INFO - The current status of the request is 'queued'\n",
      "2024-04-29 16:03:54 - INFO - The current status of the request is 'processing'\n",
      "2024-04-29 16:03:56 - INFO - The current status of the request is 'processed'\n"
     ]
    },
    {
     "data": {
      "application/vnd.jupyter.widget-view+json": {
       "model_id": "",
       "version_major": 2,
       "version_minor": 0
      },
      "text/plain": [
       "7901926b-19e0-44b7-bcc6-0442d1a203c1:   0%|          | 0.00/1.37M [00:00<?, ?B/s]"
      ]
     },
     "metadata": {},
     "output_type": "display_data"
    }
   ],
   "source": [
    "import earthkit.data\n",
    "import earthkit.maps\n",
    "import earthkit.regrid\n",
    "\n",
    "# This request matches multiple parameter of the climate DT\n",
    "\n",
    "request = {\n",
    "    'activity': 'ScenarioMIP',\n",
    "    'class': 'd1',\n",
    "    'dataset': 'climate-dt',\n",
    "    'date': '20200102',\n",
    "    'experiment': 'SSP3-7.0',\n",
    "    'expver': '0001',\n",
    "    'generation': '1',\n",
    "    'levtype': 'sfc',\n",
    "    'model': 'IFS-NEMO',\n",
    "    'param': '134/165/166',\n",
    "    'realization': '1',\n",
    "    'resolution': 'standard',\n",
    "    'stream': 'clte',\n",
    "    'time': '0100', # '0100/0200/0300/0400/0500/0600'\n",
    "    'type': 'fc'\n",
    "}\n",
    "\n",
    "#data is an earthkit streaming object but with stream=False will download data immediately \n",
    "data = earthkit.data.from_source(\"polytope\", \"destination-earth\", request, address=\"polytope.lumi.apps.dte.destination-earth.eu\", stream=False)\n"
   ]
  },
  {
   "cell_type": "code",
   "execution_count": 3,
   "id": "0c76470c-e897-4747-a56d-c7c786676b52",
   "metadata": {},
   "outputs": [
    {
     "data": {
      "text/html": [
       "<div>\n",
       "<style scoped>\n",
       "    .dataframe tbody tr th:only-of-type {\n",
       "        vertical-align: middle;\n",
       "    }\n",
       "\n",
       "    .dataframe tbody tr th {\n",
       "        vertical-align: top;\n",
       "    }\n",
       "\n",
       "    .dataframe thead th {\n",
       "        text-align: right;\n",
       "    }\n",
       "</style>\n",
       "<table border=\"1\" class=\"dataframe\">\n",
       "  <thead>\n",
       "    <tr style=\"text-align: right;\">\n",
       "      <th></th>\n",
       "      <th>centre</th>\n",
       "      <th>shortName</th>\n",
       "      <th>typeOfLevel</th>\n",
       "      <th>level</th>\n",
       "      <th>dataDate</th>\n",
       "      <th>dataTime</th>\n",
       "      <th>stepRange</th>\n",
       "      <th>dataType</th>\n",
       "      <th>number</th>\n",
       "      <th>gridType</th>\n",
       "    </tr>\n",
       "  </thead>\n",
       "  <tbody>\n",
       "    <tr>\n",
       "      <th>0</th>\n",
       "      <td>ecmf</td>\n",
       "      <td>sp</td>\n",
       "      <td>surface</td>\n",
       "      <td>0</td>\n",
       "      <td>20200102</td>\n",
       "      <td>100</td>\n",
       "      <td>0</td>\n",
       "      <td>fc</td>\n",
       "      <td>None</td>\n",
       "      <td>healpix</td>\n",
       "    </tr>\n",
       "    <tr>\n",
       "      <th>1</th>\n",
       "      <td>ecmf</td>\n",
       "      <td>10u</td>\n",
       "      <td>heightAboveGround</td>\n",
       "      <td>10</td>\n",
       "      <td>20200102</td>\n",
       "      <td>100</td>\n",
       "      <td>0</td>\n",
       "      <td>fc</td>\n",
       "      <td>None</td>\n",
       "      <td>healpix</td>\n",
       "    </tr>\n",
       "    <tr>\n",
       "      <th>2</th>\n",
       "      <td>ecmf</td>\n",
       "      <td>10v</td>\n",
       "      <td>heightAboveGround</td>\n",
       "      <td>10</td>\n",
       "      <td>20200102</td>\n",
       "      <td>100</td>\n",
       "      <td>0</td>\n",
       "      <td>fc</td>\n",
       "      <td>None</td>\n",
       "      <td>healpix</td>\n",
       "    </tr>\n",
       "  </tbody>\n",
       "</table>\n",
       "</div>"
      ],
      "text/plain": [
       "  centre shortName        typeOfLevel  level  dataDate  dataTime stepRange  \\\n",
       "0   ecmf        sp            surface      0  20200102       100         0   \n",
       "1   ecmf       10u  heightAboveGround     10  20200102       100         0   \n",
       "2   ecmf       10v  heightAboveGround     10  20200102       100         0   \n",
       "\n",
       "  dataType number gridType  \n",
       "0       fc   None  healpix  \n",
       "1       fc   None  healpix  \n",
       "2       fc   None  healpix  "
      ]
     },
     "execution_count": 3,
     "metadata": {},
     "output_type": "execute_result"
    }
   ],
   "source": [
    "data.ls()"
   ]
  },
  {
   "cell_type": "code",
   "execution_count": null,
   "id": "00eee2c6-4ab9-4917-9091-131ab9542b54",
   "metadata": {},
   "outputs": [],
   "source": []
  }
 ],
 "metadata": {
  "kernelspec": {
   "display_name": "earthkit",
   "language": "python",
   "name": "earthkit"
  },
  "language_info": {
   "codemirror_mode": {
    "name": "ipython",
    "version": 3
   },
   "file_extension": ".py",
   "mimetype": "text/x-python",
   "name": "python",
   "nbconvert_exporter": "python",
   "pygments_lexer": "ipython3",
   "version": "3.11.7"
  }
 },
 "nbformat": 4,
 "nbformat_minor": 5
}
