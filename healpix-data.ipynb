{
 "cells": [
  {
   "cell_type": "markdown",
   "id": "089adc3f-943e-4b49-bc45-9e11c737b579",
   "metadata": {},
   "source": [
    "## Climate-DT Healpix data\n",
    "\n",
    "This notebook is a simple example of how to use the Healpix data from the Climate-DT dataset. The Climate-DT dataset is a dataset of climate data that is stored in GRIB2 WMO standard format and served via Polytope from the Destination Earth data store. The Healpix grid is a way of storing data on the sphere that is used in astronomy and other fields, where the grid of pixels on the sphere is spread equally on the sphere. \n",
    "\n",
    "The Climate-DT dataset contains data on temperature, precipitation, and other climate variables. \n",
    "In this notebook, we will show how to read the data from the Climate-DT dataset, interpolate it to a Regular Lat-Lon grid, plot it on a map or transform it to NetCDF or GeoTIFF format."
   ]
  },
  {
   "cell_type": "markdown",
   "id": "5ac38420-9c94-464f-990a-bf8166004218",
   "metadata": {},
   "source": [
    "You can also set POLYTOPE_USER_EMAIL and POLYTOPE_USER_KEY in your environment. Note that the email is not required if using a token-based authentication."
   ]
  },
  {
   "cell_type": "code",
   "execution_count": null,
   "id": "b2827834-1bcf-4958-83b4-c3a6b9a70275",
   "metadata": {},
   "outputs": [],
   "source": [
    "import earthkit.data\n",
    "import earthkit.maps\n",
    "import earthkit.regrid\n",
    "\n",
    "\n",
    "request = {\n",
    "    'activity': 'ScenarioMIP',\n",
    "    'class': 'd1',\n",
    "    'dataset': 'climate-dt',\n",
    "    'date': '20200102',\n",
    "    'experiment': 'SSP3-7.0',\n",
    "    'expver': '0001',\n",
    "    'generation': '1',\n",
    "    'levtype': 'sfc',\n",
    "    'model': 'IFS-NEMO',\n",
    "    'param': '134/165/166',\n",
    "    'realization': '1',\n",
    "    'resolution': 'standard',\n",
    "    'stream': 'clte',\n",
    "    'time': '0100', # '0100/0200/0300/0400/0500/0600'\n",
    "    'type': 'fc'\n",
    "}\n",
    "\n",
    "# data is an earthkit streaming object but with stream=False will download data immediately \n",
    "data = earthkit.data.from_source(\"polytope\", \"destination-earth\", request, address=\"polytope.apps.lumi.ewctest.link\", stream=False)"
   ]
  },
  {
   "cell_type": "code",
   "execution_count": null,
   "id": "15045c6d-5244-4ce8-b921-31cb243e0f12",
   "metadata": {},
   "outputs": [],
   "source": [
    "earthkit.maps.quickplot(data[0])"
   ]
  },
  {
   "cell_type": "code",
   "execution_count": null,
   "id": "0c76470c-e897-4747-a56d-c7c786676b52",
   "metadata": {},
   "outputs": [],
   "source": [
    "data.ls()"
   ]
  },
  {
   "cell_type": "code",
   "execution_count": null,
   "id": "91661cb6",
   "metadata": {},
   "outputs": [],
   "source": [
    "# interpolate to a 1x1 degree lat-lon regular grid (in memory)\n",
    "data_latlon = earthkit.regrid.interpolate(data, out_grid={\"grid\": [1,1]}, method=\"linear\")"
   ]
  },
  {
   "cell_type": "code",
   "execution_count": null,
   "id": "d30588d9",
   "metadata": {},
   "outputs": [],
   "source": [
    "earthkit.maps.quickplot(data_latlon[0])"
   ]
  },
  {
   "cell_type": "code",
   "execution_count": null,
   "id": "b9371500",
   "metadata": {},
   "outputs": [],
   "source": [
    "data_latlon.ls()"
   ]
  },
  {
   "cell_type": "code",
   "execution_count": null,
   "id": "154d6374",
   "metadata": {},
   "outputs": [],
   "source": [
    "data_latlon.save(\"data_latlon.nc\")"
   ]
  }
 ],
 "metadata": {
  "kernelspec": {
   "display_name": "Python 3 (ipykernel)",
   "language": "python",
   "name": "python3"
  },
  "language_info": {
   "codemirror_mode": {
    "name": "ipython",
    "version": 3
   },
   "file_extension": ".py",
   "mimetype": "text/x-python",
   "name": "python",
   "nbconvert_exporter": "python",
   "pygments_lexer": "ipython3",
   "version": "3.12.2"
  }
 },
 "nbformat": 4,
 "nbformat_minor": 5
}
