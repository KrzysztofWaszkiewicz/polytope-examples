{
 "cells": [
  {
   "cell_type": "markdown",
   "id": "089adc3f-943e-4b49-bc45-9e11c737b579",
   "metadata": {},
   "source": [
    "## Polytope Extremes-DT example notebook\n",
    "\n",
    "This notebook shows how to use earthkit-data and earthkit-maps to pull destination-earth data from LUMI and plot it using earthkit-maps with a specific domain.\n",
    "\n",
    "Before running the notebook you need to set up your credentials. See the main readme of this repository for different ways to do this or use the following cells to authenticate.\n",
    "\n",
    "You will need to generate your credentials using the desp-authentication.py script.\n",
    "\n",
    "This can be run as follows:"
   ]
  },
  {
   "cell_type": "code",
   "execution_count": null,
   "id": "690284b8-914f-4615-9f10-d64bc0a41dfe",
   "metadata": {},
   "outputs": [],
   "source": [
    "!python3 ~/polytope-examples/desp-authentication.py -u <user_name> -p <password>"
   ]
  },
  {
   "cell_type": "markdown",
   "id": "5ac38420-9c94-464f-990a-bf8166004218",
   "metadata": {},
   "source": [
    "This will generate a token that can then be used by earthkit and polytope.\n",
    "\n",
    "You can also run the script without arguments to enter your username and password."
   ]
  },
  {
   "cell_type": "code",
   "execution_count": null,
   "id": "b024bbb3",
   "metadata": {},
   "outputs": [],
   "source": [
    "!python3 ~/polytope-examples/desp-authentication.py"
   ]
  },
  {
   "cell_type": "markdown",
   "id": "a44eafad-eb93-475f-9824-521473c00bb7",
   "metadata": {},
   "source": [
    "# Requirements\n",
    "To run this notebook install the following:\n",
    "* pip install earthkit-data\n",
    "* pip install earthkit-maps\n",
    "* pip install earthkit-regrid  (Optional for spectral variables)\n",
    "* pip install cf-units         (Optional for unit conversion in maps)"
   ]
  },
  {
   "cell_type": "code",
   "execution_count": null,
   "id": "b2827834-1bcf-4958-83b4-c3a6b9a70275",
   "metadata": {},
   "outputs": [],
   "source": [
    "import earthkit.data\n",
    "import earthkit.maps\n",
    "import earthkit.regrid\n",
    "\n",
    "# This request matches a single parameter of the extremes DT, at 4km resolution\n",
    "# which began production on 2023-12-11\n",
    "\n",
    "request = {\n",
    "        \"class\": \"d1\",\n",
    "        \"expver\": \"0001\",\n",
    "        \"stream\": \"oper\",\n",
    "        \"dataset\": \"extremes-dt\",\n",
    "        \"date\": \"-10\",\n",
    "        \"time\": \"0000\",\n",
    "        \"type\": \"fc\",\n",
    "        \"levtype\": \"sfc\",\n",
    "        \"step\": \"0\",\n",
    "        \"param\": \"167\"\n",
    "    }\n",
    "\n",
    "#data is an earthkit streaming object but with stream=False will download data immediately \n",
    "data = earthkit.data.from_source(\"polytope\", \"destination-earth\", request, address=\"polytope.lumi.apps.dte.destination-earth.eu\", stream=False)\n"
   ]
  },
  {
   "cell_type": "code",
   "execution_count": null,
   "id": "8dda5181-a86f-4eb8-b3aa-9cfc05a0e51a",
   "metadata": {},
   "outputs": [],
   "source": [
    "style = earthkit.maps.Style(\n",
    "    levels=range(-40, 31, 5),\n",
    "    units='celsius',\n",
    "    extend='both',\n",
    ")"
   ]
  },
  {
   "cell_type": "code",
   "execution_count": null,
   "id": "15045c6d-5244-4ce8-b921-31cb243e0f12",
   "metadata": {},
   "outputs": [],
   "source": [
    "earthkit.maps.quickplot(data, style=style)"
   ]
  },
  {
   "cell_type": "markdown",
   "id": "d30ad192",
   "metadata": {},
   "source": [
    "Now we will plot a specific area using earthkit-maps. In this case we will plot the data we have retrieved over Europe."
   ]
  },
  {
   "cell_type": "code",
   "execution_count": null,
   "id": "1980070f",
   "metadata": {},
   "outputs": [],
   "source": [
    "chart = earthkit.maps.Chart(domain=\"Europe\")\n",
    "\n",
    "chart.coastlines()\n",
    "chart.land()\n",
    "chart.borders()\n",
    "chart.gridlines()\n",
    "chart.plot(data, style=style)\n",
    "\n",
    "chart.show()"
   ]
  },
  {
   "cell_type": "code",
   "execution_count": null,
   "id": "51d059a1",
   "metadata": {},
   "outputs": [],
   "source": []
  }
 ],
 "metadata": {
  "kernelspec": {
   "display_name": "Python 3",
   "language": "python",
   "name": "python3"
  },
  "language_info": {
   "codemirror_mode": {
    "name": "ipython",
    "version": 3
   },
   "file_extension": ".py",
   "mimetype": "text/x-python",
   "name": "python",
   "nbconvert_exporter": "python",
   "pygments_lexer": "ipython3",
   "version": "3.12.0"
  }
 },
 "nbformat": 4,
 "nbformat_minor": 5
}
