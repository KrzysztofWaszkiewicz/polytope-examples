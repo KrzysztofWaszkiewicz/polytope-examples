{
 "cells": [
  {
   "cell_type": "markdown",
   "id": "089adc3f-943e-4b49-bc45-9e11c737b579",
   "metadata": {},
   "source": [
    "## Polytope Extremes-DT example notebook\n",
    "\n",
    "This notebook shows how to use earthkit-data and earthkit-maps to pull destination-earth data from LUMI regrid the data with earthkit-regrid, and plot it using earthkit-maps.\n",
    "\n",
    "Before running the notebook you need to set up your credentials. See the main readme of this repository for different ways to do this or use the following cells to authenticate.\n",
    "\n",
    "You will need to generate your credentials using the desp-authentication.py script.\n",
    "\n",
    "This can be run as follows:"
   ]
  },
  {
   "cell_type": "code",
   "execution_count": null,
   "id": "690284b8-914f-4615-9f10-d64bc0a41dfe",
   "metadata": {},
   "outputs": [],
   "source": [
    "!python3 ~/polytope-examples/desp-authentication.py -u <user_name> -p <password>"
   ]
  },
  {
   "cell_type": "markdown",
   "id": "5ac38420-9c94-464f-990a-bf8166004218",
   "metadata": {},
   "source": [
    "This will generate a token that can then be used by earthkit and polytope.\n",
    "\n",
    "You can also run the script without arguments to enter your username and password."
   ]
  },
  {
   "cell_type": "code",
   "execution_count": null,
   "id": "e630bb95",
   "metadata": {},
   "outputs": [],
   "source": [
    "!python3 ~/polytope-examples/desp-authentication.py "
   ]
  },
  {
   "cell_type": "markdown",
   "id": "a44eafad-eb93-475f-9824-521473c00bb7",
   "metadata": {},
   "source": [
    "# Requirements\n",
    "To run this notebook install the following:\n",
    "* pip install earthkit-data\n",
    "* pip install earthkit-maps\n",
    "* pip install earthkit-regrid  (Optional for spectral variables)\n",
    "* pip install cf-units         (Optional for unit conversion in maps)"
   ]
  },
  {
   "cell_type": "code",
   "execution_count": null,
   "id": "b2827834-1bcf-4958-83b4-c3a6b9a70275",
   "metadata": {},
   "outputs": [],
   "source": [
    "import earthkit.data\n",
    "import earthkit.maps\n",
    "import earthkit.regrid\n",
    "\n",
    "# This request matches a single parameter of the extremes DT, at 4km resolution\n",
    "# which began production on 2023-12-11\n",
    "\n",
    "request = {\n",
    "        \"class\": \"d1\",\n",
    "        \"expver\": \"0001\",\n",
    "        \"stream\": \"oper\",\n",
    "        \"dataset\": \"extremes-dt\",\n",
    "        \"date\": \"-10\",\n",
    "        \"time\": \"0000\",\n",
    "        \"type\": \"fc\",\n",
    "        \"levtype\": \"sfc\",\n",
    "        \"step\": \"0\",\n",
    "        \"param\": \"167\"\n",
    "    }\n",
    "\n",
    "#data is an earthkit streaming object but with stream=False will download data immediately \n",
    "data = earthkit.data.from_source(\"polytope\", \"destination-earth\", request, address=\"polytope.lumi.apps.dte.destination-earth.eu\", stream=False)\n"
   ]
  },
  {
   "cell_type": "code",
   "execution_count": null,
   "id": "8dda5181-a86f-4eb8-b3aa-9cfc05a0e51a",
   "metadata": {},
   "outputs": [],
   "source": [
    "style = earthkit.maps.Style(\n",
    "    levels=range(-40, 31, 5),\n",
    "    units='celsius',\n",
    "    extend='both',\n",
    ")"
   ]
  },
  {
   "cell_type": "code",
   "execution_count": null,
   "id": "15045c6d-5244-4ce8-b921-31cb243e0f12",
   "metadata": {},
   "outputs": [],
   "source": [
    "earthkit.maps.quickplot(data, style=style)"
   ]
  },
  {
   "cell_type": "code",
   "execution_count": null,
   "id": "0c76470c-e897-4747-a56d-c7c786676b52",
   "metadata": {},
   "outputs": [],
   "source": [
    "data.ls()"
   ]
  },
  {
   "cell_type": "code",
   "execution_count": null,
   "id": "49b667cc",
   "metadata": {},
   "outputs": [],
   "source": [
    "# regrid to 1x1 degree\n",
    "out_grid = {\"grid\": [1,1]}\n",
    "data_interpolated = earthkit.regrid.interpolate(data, out_grid=out_grid, method=\"linear\")"
   ]
  },
  {
   "cell_type": "code",
   "execution_count": null,
   "id": "d58ba261",
   "metadata": {},
   "outputs": [],
   "source": [
    "earthkit.maps.quickplot(data_interpolated, style=style)"
   ]
  },
  {
   "cell_type": "code",
   "execution_count": null,
   "id": "99fe072d",
   "metadata": {},
   "outputs": [],
   "source": [
    "# Interpolate only on the values\n",
    "res = earthkit.regrid.interpolate(data[0].values, {\"grid\": \"O2560\"}, {\"grid\": [1,1]})"
   ]
  },
  {
   "cell_type": "code",
   "execution_count": null,
   "id": "e2a7e9e7",
   "metadata": {},
   "outputs": [],
   "source": [
    "# Helper functions for plotting\n",
    "def make_lat_lon(dx):\n",
    "    import numpy as np\n",
    "\n",
    "    lat_v = np.linspace(90, -90, int(180/dx)+1)\n",
    "    lon_v = np.linspace(0, 360-dx, int(360/dx))\n",
    "    lon, lat = np.meshgrid(lon_v, lat_v)\n",
    "    return lat, lon\n",
    "\n",
    "def make_plot(r, dx):\n",
    "    import matplotlib.pyplot as plt\n",
    "\n",
    "    lat, lon = make_lat_lon(dx)\n",
    "\n",
    "    print(r.size)\n",
    "    # print(lat.size)\n",
    "    # print(lon.size)\n",
    "    v = r - 273.16\n",
    "\n",
    "    fig, ax = plt.subplots()\n",
    "    tcf = ax.tricontourf(lon.flatten(), lat.flatten(), v.flatten(), vmin=-20, vmax=36, levels=56, cmap=\"plasma\")\n",
    "    fig.colorbar(tcf)\n",
    "    plt.show()"
   ]
  },
  {
   "cell_type": "code",
   "execution_count": null,
   "id": "1a0d1248",
   "metadata": {},
   "outputs": [],
   "source": [
    "make_plot(res, 1)"
   ]
  },
  {
   "cell_type": "code",
   "execution_count": null,
   "id": "cfc6e558",
   "metadata": {},
   "outputs": [],
   "source": []
  }
 ],
 "metadata": {
  "kernelspec": {
   "display_name": "Python 3",
   "language": "python",
   "name": "python3"
  },
  "language_info": {
   "codemirror_mode": {
    "name": "ipython",
    "version": 3
   },
   "file_extension": ".py",
   "mimetype": "text/x-python",
   "name": "python",
   "nbconvert_exporter": "python",
   "pygments_lexer": "ipython3",
   "version": "3.12.0"
  }
 },
 "nbformat": 4,
 "nbformat_minor": 5
}
